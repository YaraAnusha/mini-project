{
  "nbformat": 4,
  "nbformat_minor": 0,
  "metadata": {
    "colab": {
      "provenance": [],
      "authorship_tag": "ABX9TyPbriGMVnXgM8lW5KrzI7rB",
      "include_colab_link": true
    },
    "kernelspec": {
      "name": "python3",
      "display_name": "Python 3"
    },
    "language_info": {
      "name": "python"
    }
  },
  "cells": [
    {
      "cell_type": "markdown",
      "metadata": {
        "id": "view-in-github",
        "colab_type": "text"
      },
      "source": [
        "<a href=\"https://colab.research.google.com/github/YaraAnusha/mini-project/blob/main/preprocessing.ipynb\" target=\"_parent\"><img src=\"https://colab.research.google.com/assets/colab-badge.svg\" alt=\"Open In Colab\"/></a>"
      ]
    },
    {
      "cell_type": "code",
      "source": [
        "pip install cdflib"
      ],
      "metadata": {
        "colab": {
          "base_uri": "https://localhost:8080/"
        },
        "id": "kAS0SwLe6nx_",
        "outputId": "6f3deb77-2a9a-4ce7-d218-0364d98896f3"
      },
      "execution_count": null,
      "outputs": [
        {
          "output_type": "stream",
          "name": "stdout",
          "text": [
            "Looking in indexes: https://pypi.org/simple, https://us-python.pkg.dev/colab-wheels/public/simple/\n",
            "Collecting cdflib\n",
            "  Downloading cdflib-0.4.9-py3-none-any.whl (72 kB)\n",
            "\u001b[2K     \u001b[90m━━━━━━━━━━━━━━━━━━━━━━━━━━━━━━━━━━━━━━━━\u001b[0m \u001b[32m72.9/72.9 KB\u001b[0m \u001b[31m1.3 MB/s\u001b[0m eta \u001b[36m0:00:00\u001b[0m\n",
            "\u001b[?25hRequirement already satisfied: numpy in /usr/local/lib/python3.9/dist-packages (from cdflib) (1.22.4)\n",
            "Installing collected packages: cdflib\n",
            "Successfully installed cdflib-0.4.9\n"
          ]
        }
      ]
    },
    {
      "cell_type": "code",
      "execution_count": null,
      "metadata": {
        "id": "Uv2qraK53B9C"
      },
      "outputs": [],
      "source": [
        "import os,glob\n",
        "import cdflib\n",
        "import numpy as np\n",
        "from tqdm import tqdm\n",
        "\n"
      ]
    },
    {
      "cell_type": "code",
      "source": [
        "def fillValue(array, windowSize, threshold):\n",
        "  \n",
        "\n",
        "\n",
        "   for row in tqdm(range(len(array))):\n",
        "       for col in range(len(array[row])):\n",
        "           if array[row][col] < threshold:\n",
        "               minCol = max(0, col - windowSize // 2)\n",
        "               maxCol = min(len(array[row]) - 1, col + windowSize // 2)\n",
        "               sum = 0\n",
        "               num = 0\n",
        "               for idx in range(minCol, maxCol + 1):\n",
        "                   if array[row][idx] > threshold:\n",
        "                       sum += array[row][idx]\n",
        "                       num += 1\n",
        "\n",
        "\n",
        "\n",
        "               try:\n",
        "                   array[row][col] = sum/num\n",
        "               except:\n",
        "                   print(f\"num = {num}\")\n",
        "\n",
        "\n",
        "\n",
        "   return array.T\n",
        "\n"
      ],
      "metadata": {
        "id": "tH4dDxxM35mk"
      },
      "execution_count": null,
      "outputs": []
    },
    {
      "cell_type": "code",
      "source": [
        "def preprocessing(folderSet, keySet, storeFolder, year, windowSize, threshold):\n",
        "   \n",
        "\n",
        "\n",
        "\n",
        "   for folder, keys in zip(folderSet, keySet):\n",
        "       files = sorted(glob.glob(os.path.join(folder, \"*_\"+str(year) + '*.cdf')))\n",
        "\n",
        "\n",
        "\n",
        "       for key in keys:\n",
        "           subList = []\n",
        "      \n",
        "           for file in files:\n",
        "               print(file)\n",
        "               cdf_pycdf = cdflib.cdf_to_xarray(file)\n",
        "               try:\n",
        "                   subList.append(cdf_pycdf[key][:])\n",
        "               except Exception as e:\n",
        "                   print(f\"error key {e}\")\n",
        "                   break\n",
        "\n",
        "\n",
        "\n",
        "           subList = np.concatenate(subList, axis = 0)\n",
        "           np.save(os.path.join(storeFolder, str(year) + \"-mag-\" + key + \".npy\"), subList, allow_pickle=True, fix_imports=True)\n",
        "           if key == 'B1GSE' or key == 'BGSE':\n",
        "               subList = fillValue(subList.transpose(), windowSize, threshold)\n",
        "           np.save(os.path.join(storeFolder, \"filled-\"+ str(year) + \"-mag-\" + key + \".npy\"), subList, allow_pickle=True, fix_imports=True)\n",
        "           del subList\n",
        "\n"
      ],
      "metadata": {
        "id": "Il0-VgiK4Iey"
      },
      "execution_count": null,
      "outputs": []
    },
    {
      "cell_type": "code",
      "source": [
        "if __name__ == \"__main__\":\n",
        "   storeFolder = \"./npyFiles\"\n",
        "   os.makedirs(storeFolder, exist_ok=True)\n",
        "\n",
        "\n",
        "\n",
        "   folderMAG = \"/content/dscovr-h0-mag\"\n",
        "   folderMFI = \"/content/wind-mfi-mfi_h2\"\n",
        "   folderSWE = \"/content/wind-swe-swe_h1\"\n",
        "   folderSet = [folderMAG, folderMFI, folderSWE]\n",
        "   magKey = ['Epoch1', 'B1GSE']\n",
        "   mfiKey = ['Epoch', 'BGSE']\n",
        "   sweKey = ['Proton_Np_moment', 'Proton_V_moment', 'Proton_W_moment']\n",
        "   keySet = [magKey, mfiKey, sweKey]\n",
        "\n",
        "\n",
        "\n",
        "   windowSize = 10\n",
        "   threshold = -1000000\n",
        "\n",
        "\n",
        "\n",
        "   start_year = 2021\n",
        "   end_year = 2021\n",
        "\n",
        "\n",
        "\n",
        "   for year in range(start_year, end_year+1):\n",
        "\n",
        "\n",
        "\n",
        "       preprocessing(folderSet, keySet, storeFolder, year, windowSize, threshold)\n",
        "\n"
      ],
      "metadata": {
        "colab": {
          "base_uri": "https://localhost:8080/",
          "height": 276
        },
        "id": "4ejtPVpU49Vn",
        "outputId": "1624f295-884a-4b50-a4b4-1de75ac22997"
      },
      "execution_count": null,
      "outputs": [
        {
          "output_type": "error",
          "ename": "ValueError",
          "evalue": "ignored",
          "traceback": [
            "\u001b[0;31m---------------------------------------------------------------------------\u001b[0m",
            "\u001b[0;31mValueError\u001b[0m                                Traceback (most recent call last)",
            "\u001b[0;32m<ipython-input-6-be7286819eaf>\u001b[0m in \u001b[0;36m<module>\u001b[0;34m\u001b[0m\n\u001b[1;32m     30\u001b[0m \u001b[0;34m\u001b[0m\u001b[0m\n\u001b[1;32m     31\u001b[0m \u001b[0;34m\u001b[0m\u001b[0m\n\u001b[0;32m---> 32\u001b[0;31m        \u001b[0mpreprocessing\u001b[0m\u001b[0;34m(\u001b[0m\u001b[0mfolderSet\u001b[0m\u001b[0;34m,\u001b[0m \u001b[0mkeySet\u001b[0m\u001b[0;34m,\u001b[0m \u001b[0mstoreFolder\u001b[0m\u001b[0;34m,\u001b[0m \u001b[0myear\u001b[0m\u001b[0;34m,\u001b[0m \u001b[0mwindowSize\u001b[0m\u001b[0;34m,\u001b[0m \u001b[0mthreshold\u001b[0m\u001b[0;34m)\u001b[0m\u001b[0;34m\u001b[0m\u001b[0;34m\u001b[0m\u001b[0m\n\u001b[0m\u001b[1;32m     33\u001b[0m \u001b[0;34m\u001b[0m\u001b[0m\n",
            "\u001b[0;32m<ipython-input-4-bbe53c279d67>\u001b[0m in \u001b[0;36mpreprocessing\u001b[0;34m(folderSet, keySet, storeFolder, year, windowSize, threshold)\u001b[0m\n\u001b[1;32m     23\u001b[0m \u001b[0;34m\u001b[0m\u001b[0m\n\u001b[1;32m     24\u001b[0m \u001b[0;34m\u001b[0m\u001b[0m\n\u001b[0;32m---> 25\u001b[0;31m            \u001b[0msubList\u001b[0m \u001b[0;34m=\u001b[0m \u001b[0mnp\u001b[0m\u001b[0;34m.\u001b[0m\u001b[0mconcatenate\u001b[0m\u001b[0;34m(\u001b[0m\u001b[0msubList\u001b[0m\u001b[0;34m,\u001b[0m \u001b[0maxis\u001b[0m \u001b[0;34m=\u001b[0m \u001b[0;36m0\u001b[0m\u001b[0;34m)\u001b[0m\u001b[0;34m\u001b[0m\u001b[0;34m\u001b[0m\u001b[0m\n\u001b[0m\u001b[1;32m     26\u001b[0m            \u001b[0mnp\u001b[0m\u001b[0;34m.\u001b[0m\u001b[0msave\u001b[0m\u001b[0;34m(\u001b[0m\u001b[0mos\u001b[0m\u001b[0;34m.\u001b[0m\u001b[0mpath\u001b[0m\u001b[0;34m.\u001b[0m\u001b[0mjoin\u001b[0m\u001b[0;34m(\u001b[0m\u001b[0mstoreFolder\u001b[0m\u001b[0;34m,\u001b[0m \u001b[0mstr\u001b[0m\u001b[0;34m(\u001b[0m\u001b[0myear\u001b[0m\u001b[0;34m)\u001b[0m \u001b[0;34m+\u001b[0m \u001b[0;34m\"-mag-\"\u001b[0m \u001b[0;34m+\u001b[0m \u001b[0mkey\u001b[0m \u001b[0;34m+\u001b[0m \u001b[0;34m\".npy\"\u001b[0m\u001b[0;34m)\u001b[0m\u001b[0;34m,\u001b[0m \u001b[0msubList\u001b[0m\u001b[0;34m,\u001b[0m \u001b[0mallow_pickle\u001b[0m\u001b[0;34m=\u001b[0m\u001b[0;32mTrue\u001b[0m\u001b[0;34m,\u001b[0m \u001b[0mfix_imports\u001b[0m\u001b[0;34m=\u001b[0m\u001b[0;32mTrue\u001b[0m\u001b[0;34m)\u001b[0m\u001b[0;34m\u001b[0m\u001b[0;34m\u001b[0m\u001b[0m\n\u001b[1;32m     27\u001b[0m            \u001b[0;32mif\u001b[0m \u001b[0mkey\u001b[0m \u001b[0;34m==\u001b[0m \u001b[0;34m'B1GSE'\u001b[0m \u001b[0;32mor\u001b[0m \u001b[0mkey\u001b[0m \u001b[0;34m==\u001b[0m \u001b[0;34m'BGSE'\u001b[0m\u001b[0;34m:\u001b[0m\u001b[0;34m\u001b[0m\u001b[0;34m\u001b[0m\u001b[0m\n",
            "\u001b[0;32m/usr/local/lib/python3.9/dist-packages/numpy/core/overrides.py\u001b[0m in \u001b[0;36mconcatenate\u001b[0;34m(*args, **kwargs)\u001b[0m\n",
            "\u001b[0;31mValueError\u001b[0m: need at least one array to concatenate"
          ]
        }
      ]
    }
  ]
}